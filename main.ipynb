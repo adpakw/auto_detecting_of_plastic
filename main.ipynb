{
 "cells": [
  {
   "cell_type": "code",
   "execution_count": null,
   "metadata": {},
   "outputs": [],
   "source": [
    "import numpy as np\n",
    "import tensorflow as tf\n",
    "from tensorflow.keras.preprocessing.image import img_to_array, array_to_img\n",
    "from tensorflow.keras import datasets, layers, models, utils, applications\n",
    "import matplotlib.pyplot as plt"
   ]
  },
  {
   "cell_type": "code",
   "execution_count": null,
   "metadata": {},
   "outputs": [],
   "source": []
  },
  {
   "cell_type": "code",
   "execution_count": 8,
   "metadata": {},
   "outputs": [],
   "source": [
    "from PIL import Image\n",
    "\n",
    "def crop_and_resize(image_path, output_size):\n",
    "    image = Image.open(image_path)\n",
    "    \n",
    "    width, height = image.size\n",
    "    \n",
    "    min_dim = min(width, height)\n",
    "    \n",
    "    left = (width - min_dim) // 2\n",
    "    upper = (height - min_dim) // 2\n",
    "    right = (width + min_dim) // 2\n",
    "    lower = (height + min_dim) // 2\n",
    "\n",
    "    cropped_image = image.crop((left, upper, right, lower))\n",
    "\n",
    "    resized_image = cropped_image.resize(output_size)\n",
    "\n",
    "    resized_image.save(image_path)\n",
    "\n",
    "    return resized_image\n",
    "\n",
    "\n",
    "for i in range(1,21):\n",
    "    image_path = f\"./datasets/images/PLA/{i}.jpg\"\n",
    "    output_size = (480, 480)\n",
    "    resized_image = crop_and_resize(image_path, output_size)\n",
    "    # resized_image.show() "
   ]
  }
 ],
 "metadata": {
  "kernelspec": {
   "display_name": "tf",
   "language": "python",
   "name": "python3"
  },
  "language_info": {
   "codemirror_mode": {
    "name": "ipython",
    "version": 3
   },
   "file_extension": ".py",
   "mimetype": "text/x-python",
   "name": "python",
   "nbconvert_exporter": "python",
   "pygments_lexer": "ipython3",
   "version": "3.10.10"
  },
  "orig_nbformat": 4
 },
 "nbformat": 4,
 "nbformat_minor": 2
}
